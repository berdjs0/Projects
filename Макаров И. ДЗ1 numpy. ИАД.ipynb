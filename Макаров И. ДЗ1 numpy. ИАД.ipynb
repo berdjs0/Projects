{
 "cells": [
  {
   "cell_type": "code",
   "execution_count": 3,
   "id": "3a593f3e-920b-4eb7-80ee-7301d1f4bce4",
   "metadata": {},
   "outputs": [],
   "source": [
    "import numpy as np"
   ]
  },
  {
   "cell_type": "markdown",
   "id": "d2459a88-c8d5-4dbd-851e-d4cde09c1cd0",
   "metadata": {},
   "source": [
    "Задание 1\n",
    "Напишите функцию, возвращающую округленную взвешенную сумму оценок по данным оценкам и весам. \n",
    "Можете посчитать свою оценку за курс :) В нашем случае вес экзамена равен 0.3, вес домашек - 0.4, вес контрольной - 0.2, вес самостоятельных - 0.1.\n",
    "Например, если за экзамен у вас 7, за домашки 10, за контрольную 8, а за самостоятельные 6, то вы получите отличную оценку 8!\n",
    "\n",
    "Обратите внимание, что на вход приходит всегда двумерный массив. В нем в каждой строке - оценки одного конкретного студента.\n",
    "От вас требуется вернуть итоговую оценку для всех студентов в массиве."
   ]
  },
  {
   "cell_type": "code",
   "execution_count": 743,
   "id": "c2aba8dd-ff83-4394-959e-c162e9fc4f5a",
   "metadata": {},
   "outputs": [],
   "source": [
    "def result_mark(weights: np.array, marks: np.array) -> int:\n",
    "    return np.round(np.sum(weights * marks, axis=1))\n",
    "    \n",
    "weights = np.array([0.3, 0.4, 0.2, 0.1])\n",
    "marks = np.array([[7, 10, 8, 6], [6, 9, 7, 6]])\n",
    "\n",
    "assert np.allclose(result_mark(weights, marks), np.array([8, 7]))\n",
    "weights = np.array([0.3, 0.4, 0.2, 0.1])\n",
    "marks = np.array([[7, 0, 8, 6]])\n",
    "\n",
    "assert np.allclose(result_mark(weights, marks), np.array([4]))"
   ]
  },
  {
   "cell_type": "markdown",
   "id": "80569de3-8b37-4c06-b3ac-a96d7d136624",
   "metadata": {},
   "source": [
    "Задание 2\n",
    "Напишите функцию, которая каждое четное число в массиве заменяет на его квадрат (вторую степень), а нечетное - на его синус.\n",
    "Округлите все значения в итоговом массиве до двух знаков после запятой."
   ]
  },
  {
   "cell_type": "code",
   "execution_count": 745,
   "id": "b5430415-e725-4789-9c64-251679d4e2c7",
   "metadata": {},
   "outputs": [],
   "source": [
    "def change_array(array: np.array) -> np.array:\n",
    "    prom = array % 2 == 0\n",
    "    array = np.round(np.where(prom, array ** 2, np.sin(array)), 2)\n",
    "    return array\n",
    "\n",
    "array = np.array([2, 5, 1, 0, -6, 22, 213431])\n",
    "\n",
    "assert np.allclose(change_array(array), np.array([4.0, -0.96, 0.84, 0.0, 36.0, 484.0, -0.58]))\n",
    "\n",
    "array = np.array([3, 12, 15, -97, 6])\n",
    "\n",
    "assert np.allclose(change_array(array), np.array([0.14, 144.0, 0.65, -0.38, 36.0]))"
   ]
  },
  {
   "cell_type": "markdown",
   "id": "d2113877-bb83-405f-9597-21e0280f4cb3",
   "metadata": {},
   "source": [
    "Задание 3\n",
    "Напишите функцию, которая вычисляет разность каждого элемента с предыдущим (для самого первого считайте, что его разница с \"предыдущим\" нулевая) \n",
    "в виде нового массива и возвращает вектор, в котором каждый новый элемент - сумма всех предыдущих из полученного нового массива."
   ]
  },
  {
   "cell_type": "code",
   "execution_count": 747,
   "id": "e9d74d88-863b-44b0-8189-ddf977b2efbc",
   "metadata": {},
   "outputs": [
    {
     "data": {
      "text/plain": [
       "array([ 0,  3, -1,  5])"
      ]
     },
     "execution_count": 747,
     "metadata": {},
     "output_type": "execute_result"
    }
   ],
   "source": [
    "def cumulative_sum_of_differences(array):\n",
    "    res = np.array([0])\n",
    "    dif = np.diff(array)\n",
    "    return np.append(res, np.cumsum(dif))\n",
    "array = np.array([3, 6, 2, 8])\n",
    "cumulative_sum_of_differences(array)\n"
   ]
  },
  {
   "cell_type": "markdown",
   "id": "3bdc7f75-e647-4d1b-98fd-0484a70b4633",
   "metadata": {},
   "source": [
    "Задание 4.\n",
    "Напишите функцию, которая транспонирует двумерный массив, \n",
    "затем делает из него одномерный (reshape), \n",
    "переводит все элементы массива в int8 и выводит его отсортированным по убыванию."
   ]
  },
  {
   "cell_type": "code",
   "execution_count": 749,
   "id": "29c0841d-d211-45e5-bd74-19516bbbd7b6",
   "metadata": {},
   "outputs": [],
   "source": [
    "def flatten_and_sort_transposed(array: np.array) -> np.array:\n",
    "    array = np.transpose(array).reshape(-1)\n",
    "    transf = np.sort(np.array(array, dtype=np.int8))[::-1]\n",
    "    return transf\n",
    "array = np.array([[256, -10], [-381, 112]])\n",
    "assert np.allclose(flatten_and_sort_transposed(array), np.array([112, 0, -10, -125]))\n",
    "array = np.array([[9, 8, 7], [3, 6, 129]])\n",
    "\n",
    "assert np.allclose(flatten_and_sort_transposed(array), np.array([ 9, 8, 7, 6, 3, -127]))"
   ]
  },
  {
   "cell_type": "markdown",
   "id": "5cf939f0-6b95-4881-a96f-902f0241b6f2",
   "metadata": {},
   "source": [
    "Задание 5\n",
    "Напишите функцию, которая удаляет из массива все строки, среднее значение в которых больше общего среднего значения по всему массиву.\n"
   ]
  },
  {
   "cell_type": "code",
   "execution_count": 751,
   "id": "2ab71c58-08fd-4954-af9e-265148c2b0bb",
   "metadata": {},
   "outputs": [],
   "source": [
    "def filter_rows_by_mean(array):\n",
    "    gen_mean = np.mean(array)\n",
    "    str_mean = np.mean(array, axis=1)\n",
    "    check = str_mean <= gen_mean\n",
    "    return array[check == True]\n",
    "array = np.array([[1, 2, 3], [7, 8, 9], [4, 5, 6]])\n",
    "res = filter_rows_by_mean(array)\n",
    "\n",
    "assert res.ndim == 2\n",
    "assert np.allclose(res, np.array([[1, 2, 3], [4, 5, 6]]))\n",
    "array = np.array([[10, 20], [5, 5], [15, 15]])\n",
    "res = filter_rows_by_mean(array)\n",
    "\n",
    "assert res.ndim == 2\n",
    "assert np.allclose(res, np.array([[5, 5]]))\n"
   ]
  },
  {
   "cell_type": "markdown",
   "id": "cd1b9ef6-f41e-44a9-82fc-a50e904b4b2b",
   "metadata": {},
   "source": [
    "Задание 6\n",
    "Напишите функцию, которая принимает на вход число - размер массива (квадратная матрица), \n",
    "который заполнен по принипу щахматной доски нулями и единицами. Первой (слева сверху) идет всегда единица. \n",
    "Напомним, что на шахматной доске белые и черные ячейки чередуются (в данном задании чередуются нули и единицы)."
   ]
  },
  {
   "cell_type": "code",
   "execution_count": 763,
   "id": "2181885f-2c0b-4f49-9e06-f25117984375",
   "metadata": {},
   "outputs": [],
   "source": [
    "def create_checkerboard(number):\n",
    "    prom = np.arange(number ** 2)\n",
    "    check = prom % 2 == 0\n",
    "    res = np.where(check, 1, 0)\n",
    "    res = res.reshape(number, number)\n",
    "    chet = res[1::][::2][:, ::-1]\n",
    "    res[1::][::2] = chet\n",
    "    return res\n",
    "\n",
    "number = 3\n",
    "\n",
    "assert np.allclose(create_checkerboard(number) - np.array([[1, 0, 1], [0, 1, 0], [1, 0, 1]]), np.zeros((number, number)))\n",
    "\n",
    "number = 4\n",
    "\n",
    "assert np.allclose(create_checkerboard(number) - np.array([[1, 0, 1, 0], [0, 1, 0, 1], [1, 0, 1, 0], [0, 1, 0, 1]]), np.zeros((number, number)))"
   ]
  },
  {
   "cell_type": "markdown",
   "id": "1b7e4a47-d86f-4273-821f-baa1f7a5fb96",
   "metadata": {},
   "source": [
    "Задание 7\n",
    "Напишите функцию, которая сортирует строки двумерного массива по значению в первом столбце (по возрастанию)."
   ]
  },
  {
   "cell_type": "code",
   "execution_count": 755,
   "id": "c181d690-35e9-44c6-9f87-f531ad8ddcd3",
   "metadata": {},
   "outputs": [],
   "source": [
    "def sort_rows_by_second_column(array):\n",
    "    ind = array[:,1].argsort()\n",
    "    res = array[ind]\n",
    "    return res\n",
    "    \n",
    "array = np.array([[10, 2], [3, 5], [7, 1]])\n",
    "\n",
    "assert np.allclose(sort_rows_by_second_column(array), np.array([[7, 1], [10, 2], [3, 5]]))\n",
    "\n",
    "array = np.array([[5, 8, 1], [10, 3, 9], [2, 7, 0], [6, -1, 5]])\n",
    "\n",
    "assert np.allclose(sort_rows_by_second_column(array), np.array([[6, -1, 5], [10, 3, 9], [2, 7, 0], [5, 8, 1]]))"
   ]
  },
  {
   "cell_type": "markdown",
   "id": "e24e7ee7-1b93-4591-a5a8-2e34022f8870",
   "metadata": {},
   "source": [
    "Задание 8.\n",
    "Напишите функцию, которая вычисляет сумму элементов побочной диагонали квадратной матрицы."
   ]
  },
  {
   "cell_type": "code",
   "execution_count": 757,
   "id": "21057100-5b24-4d37-9c6d-370d6a052499",
   "metadata": {},
   "outputs": [],
   "source": [
    "def sum_counterdiagonal_elements(array):\n",
    "    lenght = len(array)\n",
    "    check = np.identity(lenght)[::-1]\n",
    "    return np.sum(check * array)\n",
    "array = np.array([[5, 8, 1], [10, 3, 9], [2, 7, 0]])\n",
    "\n",
    "assert sum_counterdiagonal_elements(array) == 6\n",
    "\n",
    "array = np.array([[-4, -1, -1, 7], [6, -10, 5, -9], [3, -8, 6, 8], [-1, -6, 7, -10]])\n",
    "\n",
    "assert sum_counterdiagonal_elements(array) == 3"
   ]
  },
  {
   "cell_type": "markdown",
   "id": "83f3c82a-9225-458d-a6d1-aa6c9bbabe22",
   "metadata": {},
   "source": [
    "Задание 9.\n",
    "Напишите функцию, которая принимает на вход три числа (начало отрезка, конец отрезка, количество точек на отрезке).\n",
    "Данная функция генерирует указанное количество точек равномерно на отрезке с указанными концами (точки равноудалены друг от друга). \n",
    "Затем функция генерирует другой массив - натуральный логарифм от всех точек отрезка плюс единица (\n",
    "). Возвращает функция массив пар точек вида (точка на отрезке, ее логарифм). \n",
    "Каждое значение в возвращаемом массиве должно быть округлено до двух знаков после запятой."
   ]
  },
  {
   "cell_type": "code",
   "execution_count": 765,
   "id": "d50bde78-e8f7-4263-9633-1e20dc84b89d",
   "metadata": {
    "scrolled": true
   },
   "outputs": [],
   "source": [
    "def generate_logarithm_points(start, end, count):\n",
    "    det = (end - start) / (count - 1)\n",
    "    mas_1 = np.arange(start, end + 1, det)\n",
    "    mas_2 = np.round(np.log(mas_1 + 1), 2)\n",
    "    mas_1 = np.round(mas_1, 2)\n",
    "    res = np.column_stack([mas_1, mas_2])\n",
    "    return res\n",
    "\n",
    "start = 1\n",
    "end = 10\n",
    "count = 5\n",
    "\n",
    "assert np.allclose(generate_logarithm_points(start, end, count), np.array([[1., 0.69], [3.25, 1.45], [5.5 , 1.87], [7.75, 2.17], [10., 2.4]]))\n",
    "start = 5\n",
    "end = 12\n",
    "count = 4\n",
    "\n",
    "assert np.allclose(generate_logarithm_points(start, end, count), np.array([[5., 1.79], [7.33, 2.12], [9.67, 2.37], [12., 2.56]]))"
   ]
  },
  {
   "cell_type": "markdown",
   "id": "76e4bef4-4d68-400d-89e2-f583668c6d58",
   "metadata": {},
   "source": [
    "Задание 10\n",
    "Напишите функцию, которая нормализует входной двумерный массив.\n",
    "\n",
    "Под нормализацией в данном задании подразумевается перевод всех чисел массива на отрезок \n",
    ". Очевидно, недостаточно просто вычесть/прибавить лишнее, чтобы остались числа на нужном отрезке. \n",
    "Суть нормализации массива в том, чтобы не потерять информацию о его элементах и их соотношениях. \n",
    "Потому, необходимо сохранить пропорции расстояний между каждым числом - спроецировать все точки на указанный отрезок. \n",
    "Такой метод масштабирования массива называется MinMaxScaling. Само название дает подсказку, как нужно решить задачу. \n",
    "Дробные числа округляйте до двух знаков после запятой.\n",
    "\n",
    "Будьте осторожны с делением..."
   ]
  },
  {
   "cell_type": "code",
   "execution_count": 767,
   "id": "10112e4a-3c50-42ec-ad75-464fdde58382",
   "metadata": {},
   "outputs": [],
   "source": [
    "def min_max_scale(array):\n",
    "    mini = np.min(array)\n",
    "    mxi = np.max(array)\n",
    "    dif = mxi - mini\n",
    "    res = np.round((array - mini) / dif, 2)\n",
    "    return res\n",
    "array = np.array([[1, 2, 3], [4, 5, 6], [7, 8, 9]])\n",
    "\n",
    "assert np.allclose(min_max_scale(array), np.array([[0. , 0.12, 0.25], [0.38, 0.5 , 0.62], [0.75, 0.88, 1.]]))\n",
    "array = np.array([[0, 1, 2], [3, 4, 5]])\n",
    "\n",
    "assert np.allclose(min_max_scale(array), np.array([[0., 0.2, 0.4], [0.6, 0.8, 1.]]))"
   ]
  }
 ],
 "metadata": {
  "kernelspec": {
   "display_name": "Python 3 (ipykernel)",
   "language": "python",
   "name": "python3"
  },
  "language_info": {
   "codemirror_mode": {
    "name": "ipython",
    "version": 3
   },
   "file_extension": ".py",
   "mimetype": "text/x-python",
   "name": "python",
   "nbconvert_exporter": "python",
   "pygments_lexer": "ipython3",
   "version": "3.12.7"
  }
 },
 "nbformat": 4,
 "nbformat_minor": 5
}
